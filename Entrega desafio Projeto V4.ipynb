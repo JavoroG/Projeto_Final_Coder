{
 "cells": [
  {
   "cell_type": "code",
   "execution_count": 1,
   "metadata": {},
   "outputs": [],
   "source": [
    "import pandas as pd\n",
    "import bs4 as bs\n",
    "import validar as val\n",
    "import reqhtml as rh\n",
    "import functionsjv as jv\n",
    "import requests\n",
    "import sqlite3"
   ]
  },
  {
   "cell_type": "markdown",
   "metadata": {},
   "source": [
    "### Accesando os APIs/Web\n",
    "\n",
    "* URLs para conectar APIS/Web\n"
   ]
  },
  {
   "cell_type": "code",
   "execution_count": 2,
   "metadata": {},
   "outputs": [],
   "source": [
    "aeroportos = \"https://pt.wikipedia.org/wiki/Lista_de_aeroportos_do_Brasil_por_c%C3%B3digo_aeroportu%C3%A1rio_ICAO\"\n",
    "\n",
    "cptec = \"https://brasilapi.com.br/api/cptec/v1/clima/capital\"\n",
    "\n",
    "ibge_estados = \"https://brasilapi.com.br/api/ibge/uf/v1/{code}\"\n",
    "\n"
   ]
  },
  {
   "cell_type": "markdown",
   "metadata": {},
   "source": [
    "#### Validando a conexao das API e da URL da tabela HTML"
   ]
  },
  {
   "cell_type": "code",
   "execution_count": 3,
   "metadata": {},
   "outputs": [
    {
     "data": {
      "text/plain": [
       "[{'https://pt.wikipedia.org/wiki/Lista_de_aeroportos_do_Brasil_por_c%C3%B3digo_aeroportu%C3%A1rio_ICAO': 200},\n",
       " {'https://brasilapi.com.br/api/cptec/v1/clima/capital': 200},\n",
       " {'https://brasilapi.com.br/api/ibge/uf/v1/SP': 200}]"
      ]
     },
     "execution_count": 3,
     "metadata": {},
     "output_type": "execute_result"
    }
   ],
   "source": [
    "list = []\n",
    "bases = []\n",
    "\n",
    "val.conexao(aeroportos, list, bases = 0)   #Conexao da base com a tabela de aeroportos, se usa parametro bases = 0 porque esta base retorna um HTML\n",
    "\n",
    "val.conexao(cptec, list, bases) #Conexao com a base API de Centro de Previsao de Tempo e Estudos Climaticos (cptec)\n",
    "\n",
    "val.conexao(ibge_estados.replace('{code}', 'SP'), list, bases) #Conexao base ibge_estados, esta base precisa de um code que seria a sigla UF. \n",
    "                                                        # se faz um replace de {code} por SP para testar conexao"
   ]
  },
  {
   "cell_type": "markdown",
   "metadata": {},
   "source": [
    "#### Extraindo dados e criando os dataframes\n",
    "\n",
    "* Extraindo dados para base ibge_estados para todas unidaded as federativas"
   ]
  },
  {
   "cell_type": "code",
   "execution_count": 4,
   "metadata": {},
   "outputs": [],
   "source": [
    "# A base \"https://brasilapi.com.br/api/ibge/uf/v1/{code}\" precisa de um code para trazer os dados, esse code é a sigla da unidade federativa(UF)\n",
    "\n",
    "#Se cria uma lista com todas a siglas federativas para poder remplazar o code da URL e criar um dataframe com todos os estado.\n",
    "\n",
    "uf = ['RO', 'AC', 'AM', 'RR', 'PA', 'AP', 'TO', 'MA', 'PI','CE', 'RN', 'PB', 'PE', 'AL', 'SE', 'BA', 'MG',\n",
    "             'ES', 'RJ', 'SP', 'PR', 'SC', 'RS', 'MS', 'MT', 'GO', 'DF']\n",
    "\n",
    "\n",
    "lista = []  # Lista vazia para armazenar os valores \n",
    " \n",
    "# Se usa um For para passar cada sigla UF na função retorna_estado, que adiciona cada resultado numa lista que é retornada para se armazanada na lista vazia criada.\n",
    "for sigla in uf:\n",
    "    jv.retorna_estado(sigla, lista)\n",
    "\n",
    "#lista   # para testar se os dados foram armazenados."
   ]
  },
  {
   "cell_type": "markdown",
   "metadata": {},
   "source": [
    "* Com os dados extraidos, se criam os data frames para cada base"
   ]
  },
  {
   "cell_type": "code",
   "execution_count": 5,
   "metadata": {},
   "outputs": [],
   "source": [
    "#Se criam os DataFrames das bases extraídas dos APIs e do sitio Web\n",
    "\n",
    "df_aeroporto = rh.basehtml(aeroportos) #Função rh.basehtml conecta com a url, extrai a tabela do HTML, extrai os dados e retorna um DataFrame         \n",
    "df_cptec = pd.DataFrame(bases[0]) \n",
    "df_estados = pd.DataFrame(lista).reset_index(drop=True)\n"
   ]
  },
  {
   "cell_type": "markdown",
   "metadata": {},
   "source": [
    "# Tratamento de dados\n",
    "\n",
    "* Formatação de dataframes\n",
    "* Eliminaçõ de valores null\n",
    "* Mudança do tipo de dado da coluna\n",
    "* Remover duplicatas"
   ]
  },
  {
   "cell_type": "markdown",
   "metadata": {},
   "source": [
    "### Dataframe Aeroporto"
   ]
  },
  {
   "cell_type": "code",
   "execution_count": 6,
   "metadata": {},
   "outputs": [
    {
     "name": "stdout",
     "output_type": "stream",
     "text": [
      "<class 'pandas.core.frame.DataFrame'>\n",
      "RangeIndex: 78 entries, 0 to 77\n",
      "Data columns (total 4 columns):\n",
      " #   Column        Non-Null Count  Dtype \n",
      "---  ------        --------------  ----- \n",
      " 0   nome usual    78 non-null     object\n",
      " 1   nome oficial  78 non-null     object\n",
      " 2   codigo        78 non-null     object\n",
      " 3   localizacao   78 non-null     object\n",
      "dtypes: object(4)\n",
      "memory usage: 2.6+ KB\n"
     ]
    }
   ],
   "source": [
    "#Informação da base aeroportos\n",
    "df_aeroporto.info()"
   ]
  },
  {
   "cell_type": "markdown",
   "metadata": {},
   "source": [
    "* Não tem valores nulos, então revisamos as colunas"
   ]
  },
  {
   "cell_type": "code",
   "execution_count": 7,
   "metadata": {},
   "outputs": [
    {
     "data": {
      "text/html": [
       "<div>\n",
       "<style scoped>\n",
       "    .dataframe tbody tr th:only-of-type {\n",
       "        vertical-align: middle;\n",
       "    }\n",
       "\n",
       "    .dataframe tbody tr th {\n",
       "        vertical-align: top;\n",
       "    }\n",
       "\n",
       "    .dataframe thead th {\n",
       "        text-align: right;\n",
       "    }\n",
       "</style>\n",
       "<table border=\"1\" class=\"dataframe\">\n",
       "  <thead>\n",
       "    <tr style=\"text-align: right;\">\n",
       "      <th></th>\n",
       "      <th>nome usual</th>\n",
       "      <th>nome oficial</th>\n",
       "      <th>codigo</th>\n",
       "      <th>localizacao</th>\n",
       "    </tr>\n",
       "  </thead>\n",
       "  <tbody>\n",
       "    <tr>\n",
       "      <th>73</th>\n",
       "      <td>Tefé</td>\n",
       "      <td>Aeroporto Regional de Tefé</td>\n",
       "      <td>SBTF</td>\n",
       "      <td>Tefé/AM</td>\n",
       "    </tr>\n",
       "    <tr>\n",
       "      <th>74</th>\n",
       "      <td>Teresina\\n</td>\n",
       "      <td>Aeroporto de Teresina\\n</td>\n",
       "      <td>SBTE\\n</td>\n",
       "      <td>Teresina/PI\\n</td>\n",
       "    </tr>\n",
       "    <tr>\n",
       "      <th>75</th>\n",
       "      <td>Óbidos Tirios</td>\n",
       "      <td>Base Área de Tirios</td>\n",
       "      <td>SBTS</td>\n",
       "      <td>Óbidos/PA</td>\n",
       "    </tr>\n",
       "    <tr>\n",
       "      <th>76</th>\n",
       "      <td>Unaí</td>\n",
       "      <td>Aeroporto de Unaí</td>\n",
       "      <td>SNUN</td>\n",
       "      <td>Unaí/MG</td>\n",
       "    </tr>\n",
       "    <tr>\n",
       "      <th>77</th>\n",
       "      <td>Xapuri</td>\n",
       "      <td>Aeroporto de Xapuri</td>\n",
       "      <td>SWXU</td>\n",
       "      <td>Xapuri/AC</td>\n",
       "    </tr>\n",
       "  </tbody>\n",
       "</table>\n",
       "</div>"
      ],
      "text/plain": [
       "       nome usual                nome oficial  codigo    localizacao\n",
       "73           Tefé  Aeroporto Regional de Tefé    SBTF        Tefé/AM\n",
       "74     Teresina\\n     Aeroporto de Teresina\\n  SBTE\\n  Teresina/PI\\n\n",
       "75  Óbidos Tirios         Base Área de Tirios    SBTS      Óbidos/PA\n",
       "76           Unaí           Aeroporto de Unaí    SNUN        Unaí/MG\n",
       "77         Xapuri         Aeroporto de Xapuri    SWXU      Xapuri/AC"
      ]
     },
     "execution_count": 7,
     "metadata": {},
     "output_type": "execute_result"
    }
   ],
   "source": [
    "df_aeroporto.tail(5)"
   ]
  },
  {
   "cell_type": "markdown",
   "metadata": {},
   "source": [
    "* Na coluna localizacao a cidade e as siglas UF estão juntas, vamos separar as siglas e colocar numa coluna nova.\n",
    "* Tem valores com um \\n que deve ser eliminado. Exemplo a linha 74\n"
   ]
  },
  {
   "cell_type": "code",
   "execution_count": 8,
   "metadata": {},
   "outputs": [
    {
     "data": {
      "text/plain": [
       "['Tratamento feito: Cidade e UF separados em duas colunas',\n",
       " 'Tratamento feito: Eliminar /n dos dados',\n",
       " 'Tratamento feito: Coluna localicao removida pra deixar as colunas cidade e uf']"
      ]
     },
     "execution_count": 8,
     "metadata": {},
     "output_type": "execute_result"
    }
   ],
   "source": [
    "# Se cria uma lista vazia para armazenar cada tratamento feito na base e depois imprimir\n",
    "lista_tratamento = []\n",
    "\n",
    "#se chama a função tratamento.aeroporto que está no modulo importado functionsjv com alias jv, \n",
    "#aí se realiza a separação da coluna localização em duas novas colunas, cidade e uf. depois se remove a coluna localizacao.\n",
    "# A funcão tratamento_aeroporto conta com o código para remover o caráter \\n\n",
    "\n",
    "df_aeroporto_tratada = jv.tratamento_aeroporto(df_aeroporto, lista_tratamento)\n",
    "lista_tratamento"
   ]
  },
  {
   "cell_type": "markdown",
   "metadata": {},
   "source": [
    "#### Base aeroporto tratada"
   ]
  },
  {
   "cell_type": "code",
   "execution_count": 26,
   "metadata": {},
   "outputs": [
    {
     "data": {
      "text/html": [
       "<div>\n",
       "<style scoped>\n",
       "    .dataframe tbody tr th:only-of-type {\n",
       "        vertical-align: middle;\n",
       "    }\n",
       "\n",
       "    .dataframe tbody tr th {\n",
       "        vertical-align: top;\n",
       "    }\n",
       "\n",
       "    .dataframe thead th {\n",
       "        text-align: right;\n",
       "    }\n",
       "</style>\n",
       "<table border=\"1\" class=\"dataframe\">\n",
       "  <thead>\n",
       "    <tr style=\"text-align: right;\">\n",
       "      <th></th>\n",
       "      <th>nome usual</th>\n",
       "      <th>nome oficial</th>\n",
       "      <th>codigo</th>\n",
       "      <th>cidade</th>\n",
       "      <th>uf</th>\n",
       "    </tr>\n",
       "  </thead>\n",
       "  <tbody>\n",
       "    <tr>\n",
       "      <th>0</th>\n",
       "      <td>Amapá</td>\n",
       "      <td>Aeroporto de Amapá</td>\n",
       "      <td>SBAM</td>\n",
       "      <td>Amapá</td>\n",
       "      <td>AP</td>\n",
       "    </tr>\n",
       "    <tr>\n",
       "      <th>1</th>\n",
       "      <td>Apuí</td>\n",
       "      <td>Aeroporto de Apuí</td>\n",
       "      <td>SWYN</td>\n",
       "      <td>Apuí</td>\n",
       "      <td>AM</td>\n",
       "    </tr>\n",
       "    <tr>\n",
       "      <th>2</th>\n",
       "      <td>Arapiraca</td>\n",
       "      <td>Aeroporto de Arapiraca</td>\n",
       "      <td>SNAL</td>\n",
       "      <td>Arapiraca</td>\n",
       "      <td>AL</td>\n",
       "    </tr>\n",
       "    <tr>\n",
       "      <th>3</th>\n",
       "      <td>Barcelos</td>\n",
       "      <td>Aeroporto de Barcelos</td>\n",
       "      <td>SWBC</td>\n",
       "      <td>Barcelos</td>\n",
       "      <td>AM</td>\n",
       "    </tr>\n",
       "    <tr>\n",
       "      <th>4</th>\n",
       "      <td>Barreirinha</td>\n",
       "      <td>Aeroporto de Barreirinha</td>\n",
       "      <td>SWBI</td>\n",
       "      <td>Barreirinha</td>\n",
       "      <td>AM</td>\n",
       "    </tr>\n",
       "    <tr>\n",
       "      <th>...</th>\n",
       "      <td>...</td>\n",
       "      <td>...</td>\n",
       "      <td>...</td>\n",
       "      <td>...</td>\n",
       "      <td>...</td>\n",
       "    </tr>\n",
       "    <tr>\n",
       "      <th>73</th>\n",
       "      <td>Tefé</td>\n",
       "      <td>Aeroporto Regional de Tefé</td>\n",
       "      <td>SBTF</td>\n",
       "      <td>Tefé</td>\n",
       "      <td>AM</td>\n",
       "    </tr>\n",
       "    <tr>\n",
       "      <th>74</th>\n",
       "      <td>Teresina</td>\n",
       "      <td>Aeroporto de Teresina</td>\n",
       "      <td>SBTE</td>\n",
       "      <td>Teresina</td>\n",
       "      <td>PI</td>\n",
       "    </tr>\n",
       "    <tr>\n",
       "      <th>75</th>\n",
       "      <td>Óbidos Tirios</td>\n",
       "      <td>Base Área de Tirios</td>\n",
       "      <td>SBTS</td>\n",
       "      <td>Óbidos</td>\n",
       "      <td>PA</td>\n",
       "    </tr>\n",
       "    <tr>\n",
       "      <th>76</th>\n",
       "      <td>Unaí</td>\n",
       "      <td>Aeroporto de Unaí</td>\n",
       "      <td>SNUN</td>\n",
       "      <td>Unaí</td>\n",
       "      <td>MG</td>\n",
       "    </tr>\n",
       "    <tr>\n",
       "      <th>77</th>\n",
       "      <td>Xapuri</td>\n",
       "      <td>Aeroporto de Xapuri</td>\n",
       "      <td>SWXU</td>\n",
       "      <td>Xapuri</td>\n",
       "      <td>AC</td>\n",
       "    </tr>\n",
       "  </tbody>\n",
       "</table>\n",
       "<p>78 rows × 5 columns</p>\n",
       "</div>"
      ],
      "text/plain": [
       "       nome usual                nome oficial codigo       cidade  uf\n",
       "0           Amapá          Aeroporto de Amapá   SBAM        Amapá  AP\n",
       "1            Apuí           Aeroporto de Apuí   SWYN         Apuí  AM\n",
       "2       Arapiraca      Aeroporto de Arapiraca   SNAL    Arapiraca  AL\n",
       "3        Barcelos       Aeroporto de Barcelos   SWBC     Barcelos  AM\n",
       "4     Barreirinha    Aeroporto de Barreirinha   SWBI  Barreirinha  AM\n",
       "..            ...                         ...    ...          ...  ..\n",
       "73           Tefé  Aeroporto Regional de Tefé   SBTF         Tefé  AM\n",
       "74       Teresina       Aeroporto de Teresina   SBTE     Teresina  PI\n",
       "75  Óbidos Tirios         Base Área de Tirios   SBTS       Óbidos  PA\n",
       "76           Unaí           Aeroporto de Unaí   SNUN         Unaí  MG\n",
       "77         Xapuri         Aeroporto de Xapuri   SWXU       Xapuri  AC\n",
       "\n",
       "[78 rows x 5 columns]"
      ]
     },
     "execution_count": 26,
     "metadata": {},
     "output_type": "execute_result"
    }
   ],
   "source": [
    "df_aeroporto_tratada"
   ]
  },
  {
   "cell_type": "markdown",
   "metadata": {},
   "source": [
    "### Dataframe CPTEC"
   ]
  },
  {
   "cell_type": "code",
   "execution_count": 27,
   "metadata": {},
   "outputs": [
    {
     "name": "stdout",
     "output_type": "stream",
     "text": [
      "<class 'pandas.core.frame.DataFrame'>\n",
      "RangeIndex: 26 entries, 0 to 25\n",
      "Data columns (total 10 columns):\n",
      " #   Column               Non-Null Count  Dtype \n",
      "---  ------               --------------  ----- \n",
      " 0   umidade              26 non-null     int64 \n",
      " 1   intensidade          26 non-null     object\n",
      " 2   codigo_icao          26 non-null     object\n",
      " 3   pressao_atmosferica  26 non-null     int64 \n",
      " 4   vento                26 non-null     int64 \n",
      " 5   direcao_vento        26 non-null     int64 \n",
      " 6   condicao             26 non-null     object\n",
      " 7   condicao_desc        26 non-null     object\n",
      " 8   temp                 26 non-null     int64 \n",
      " 9   atualizado_em        26 non-null     object\n",
      "dtypes: int64(5), object(5)\n",
      "memory usage: 2.2+ KB\n"
     ]
    }
   ],
   "source": [
    "#Informação da base cptec\n",
    "df_cptec.info()\n"
   ]
  },
  {
   "cell_type": "markdown",
   "metadata": {},
   "source": [
    "#### Tratamento da base CPTEC\n",
    "* Mudar para Timedate o tipo de dado da coluna \"atualizado_em\"\n",
    "* Eliminar a coluna condicao porque é desnecessaria no nosso modelo, e se tem a coluna condicao_desc que explica melhor o valor."
   ]
  },
  {
   "cell_type": "code",
   "execution_count": 9,
   "metadata": {},
   "outputs": [
    {
     "data": {
      "text/plain": [
       "['Tratamento feito: Valores da coluna \"atualizado em\" mudados para tipo Datetime',\n",
       " 'Tratamento feito: Coluna \"condicao\" eliminada do dataframe']"
      ]
     },
     "execution_count": 9,
     "metadata": {},
     "output_type": "execute_result"
    }
   ],
   "source": [
    "#Lista vazia para armazenar o resultado da função tratamento_cptec, que retorna uma lista com os tratamentos feitos.\n",
    "lista_tratamentos_cptec = []\n",
    "\n",
    "#Se chama a função tratamento_cptec que tem o código para mudar o tipo de dado de atualizado_em de Object para Datetime,\n",
    "#também contém o código que elimina com um drop() a coluna condicao.\n",
    "df_cptec_tratada = jv.tratamento_cptec(df_cptec, lista_tratamentos_cptec)\n",
    "\n",
    "lista_tratamentos_cptec  #Para imprimir os tratamentos feitos"
   ]
  },
  {
   "cell_type": "markdown",
   "metadata": {},
   "source": [
    "* Se revisa que a base tinha mudado o tipo de dado da coluna \"atualizada_em\" e que a coluna \"condicao\" tinha sido eliminada"
   ]
  },
  {
   "cell_type": "code",
   "execution_count": 11,
   "metadata": {},
   "outputs": [
    {
     "name": "stdout",
     "output_type": "stream",
     "text": [
      "<class 'pandas.core.frame.DataFrame'>\n",
      "RangeIndex: 26 entries, 0 to 25\n",
      "Data columns (total 9 columns):\n",
      " #   Column               Non-Null Count  Dtype              \n",
      "---  ------               --------------  -----              \n",
      " 0   umidade              26 non-null     int64              \n",
      " 1   intensidade          26 non-null     object             \n",
      " 2   codigo_icao          26 non-null     object             \n",
      " 3   pressao_atmosferica  26 non-null     int64              \n",
      " 4   vento                26 non-null     int64              \n",
      " 5   direcao_vento        26 non-null     int64              \n",
      " 6   condicao_desc        26 non-null     object             \n",
      " 7   temp                 26 non-null     int64              \n",
      " 8   atualizado_em        26 non-null     datetime64[ns, UTC]\n",
      "dtypes: datetime64[ns, UTC](1), int64(5), object(3)\n",
      "memory usage: 2.0+ KB\n"
     ]
    }
   ],
   "source": [
    "df_cptec_tratada.info()    # Se imprime para verificar que o tratamento desejado na base foi feito."
   ]
  },
  {
   "cell_type": "markdown",
   "metadata": {},
   "source": [
    "#### Base CPTEC tratada"
   ]
  },
  {
   "cell_type": "code",
   "execution_count": 12,
   "metadata": {},
   "outputs": [
    {
     "data": {
      "text/html": [
       "<div>\n",
       "<style scoped>\n",
       "    .dataframe tbody tr th:only-of-type {\n",
       "        vertical-align: middle;\n",
       "    }\n",
       "\n",
       "    .dataframe tbody tr th {\n",
       "        vertical-align: top;\n",
       "    }\n",
       "\n",
       "    .dataframe thead th {\n",
       "        text-align: right;\n",
       "    }\n",
       "</style>\n",
       "<table border=\"1\" class=\"dataframe\">\n",
       "  <thead>\n",
       "    <tr style=\"text-align: right;\">\n",
       "      <th></th>\n",
       "      <th>umidade</th>\n",
       "      <th>intensidade</th>\n",
       "      <th>codigo_icao</th>\n",
       "      <th>pressao_atmosferica</th>\n",
       "      <th>vento</th>\n",
       "      <th>direcao_vento</th>\n",
       "      <th>condicao_desc</th>\n",
       "      <th>temp</th>\n",
       "      <th>atualizado_em</th>\n",
       "    </tr>\n",
       "  </thead>\n",
       "  <tbody>\n",
       "    <tr>\n",
       "      <th>16</th>\n",
       "      <td>83</td>\n",
       "      <td>&gt;10000</td>\n",
       "      <td>SBPA</td>\n",
       "      <td>1015</td>\n",
       "      <td>22</td>\n",
       "      <td>100</td>\n",
       "      <td>Predomínio de Sol</td>\n",
       "      <td>25</td>\n",
       "      <td>2024-03-01 22:00:00.024000+00:00</td>\n",
       "    </tr>\n",
       "    <tr>\n",
       "      <th>17</th>\n",
       "      <td>89</td>\n",
       "      <td>&gt;10000</td>\n",
       "      <td>SBPV</td>\n",
       "      <td>1011</td>\n",
       "      <td>4</td>\n",
       "      <td>310</td>\n",
       "      <td>Predomínio de Sol</td>\n",
       "      <td>27</td>\n",
       "      <td>2024-03-01 22:00:00.024000+00:00</td>\n",
       "    </tr>\n",
       "    <tr>\n",
       "      <th>18</th>\n",
       "      <td>79</td>\n",
       "      <td>&gt;10000</td>\n",
       "      <td>SBRF</td>\n",
       "      <td>1012</td>\n",
       "      <td>14</td>\n",
       "      <td>30</td>\n",
       "      <td>Predomínio de Sol</td>\n",
       "      <td>29</td>\n",
       "      <td>2024-03-01 22:00:00.024000+00:00</td>\n",
       "    </tr>\n",
       "    <tr>\n",
       "      <th>19</th>\n",
       "      <td>94</td>\n",
       "      <td>&gt;10000</td>\n",
       "      <td>SBRB</td>\n",
       "      <td>1012</td>\n",
       "      <td>7</td>\n",
       "      <td>270</td>\n",
       "      <td>Predomínio de Sol</td>\n",
       "      <td>26</td>\n",
       "      <td>2024-03-01 22:00:00.024000+00:00</td>\n",
       "    </tr>\n",
       "    <tr>\n",
       "      <th>20</th>\n",
       "      <td>79</td>\n",
       "      <td>&gt;10000</td>\n",
       "      <td>SBRJ</td>\n",
       "      <td>1013</td>\n",
       "      <td>14</td>\n",
       "      <td>170</td>\n",
       "      <td>Predomínio de Sol</td>\n",
       "      <td>26</td>\n",
       "      <td>2024-03-01 22:00:00.024000+00:00</td>\n",
       "    </tr>\n",
       "    <tr>\n",
       "      <th>21</th>\n",
       "      <td>84</td>\n",
       "      <td>&gt;10000</td>\n",
       "      <td>SBSV</td>\n",
       "      <td>1011</td>\n",
       "      <td>18</td>\n",
       "      <td>60</td>\n",
       "      <td>Predomínio de Sol</td>\n",
       "      <td>29</td>\n",
       "      <td>2024-03-01 22:00:00.024000+00:00</td>\n",
       "    </tr>\n",
       "    <tr>\n",
       "      <th>22</th>\n",
       "      <td>89</td>\n",
       "      <td>&gt;10000</td>\n",
       "      <td>SBSL</td>\n",
       "      <td>1012</td>\n",
       "      <td>14</td>\n",
       "      <td>20</td>\n",
       "      <td>Predomínio de Sol</td>\n",
       "      <td>27</td>\n",
       "      <td>2024-03-01 22:00:00.024000+00:00</td>\n",
       "    </tr>\n",
       "    <tr>\n",
       "      <th>23</th>\n",
       "      <td>83</td>\n",
       "      <td>&gt;10000</td>\n",
       "      <td>SBSP</td>\n",
       "      <td>1019</td>\n",
       "      <td>11</td>\n",
       "      <td>150</td>\n",
       "      <td>Predomínio de Sol</td>\n",
       "      <td>20</td>\n",
       "      <td>2024-03-01 22:00:00.024000+00:00</td>\n",
       "    </tr>\n",
       "    <tr>\n",
       "      <th>24</th>\n",
       "      <td>89</td>\n",
       "      <td>&gt;10000</td>\n",
       "      <td>SBTE</td>\n",
       "      <td>1012</td>\n",
       "      <td>11</td>\n",
       "      <td>340</td>\n",
       "      <td>Predomínio de Sol</td>\n",
       "      <td>26</td>\n",
       "      <td>2024-03-01 22:00:00.024000+00:00</td>\n",
       "    </tr>\n",
       "    <tr>\n",
       "      <th>25</th>\n",
       "      <td>100</td>\n",
       "      <td>&gt;10000</td>\n",
       "      <td>SBVT</td>\n",
       "      <td>1011</td>\n",
       "      <td>0</td>\n",
       "      <td>9999</td>\n",
       "      <td>Predomínio de Sol</td>\n",
       "      <td>23</td>\n",
       "      <td>2024-03-01 22:00:00.024000+00:00</td>\n",
       "    </tr>\n",
       "  </tbody>\n",
       "</table>\n",
       "</div>"
      ],
      "text/plain": [
       "    umidade intensidade codigo_icao  pressao_atmosferica  vento  \\\n",
       "16       83      >10000        SBPA                 1015     22   \n",
       "17       89      >10000        SBPV                 1011      4   \n",
       "18       79      >10000        SBRF                 1012     14   \n",
       "19       94      >10000        SBRB                 1012      7   \n",
       "20       79      >10000        SBRJ                 1013     14   \n",
       "21       84      >10000        SBSV                 1011     18   \n",
       "22       89      >10000        SBSL                 1012     14   \n",
       "23       83      >10000        SBSP                 1019     11   \n",
       "24       89      >10000        SBTE                 1012     11   \n",
       "25      100      >10000        SBVT                 1011      0   \n",
       "\n",
       "    direcao_vento      condicao_desc  temp                    atualizado_em  \n",
       "16            100  Predomínio de Sol    25 2024-03-01 22:00:00.024000+00:00  \n",
       "17            310  Predomínio de Sol    27 2024-03-01 22:00:00.024000+00:00  \n",
       "18             30  Predomínio de Sol    29 2024-03-01 22:00:00.024000+00:00  \n",
       "19            270  Predomínio de Sol    26 2024-03-01 22:00:00.024000+00:00  \n",
       "20            170  Predomínio de Sol    26 2024-03-01 22:00:00.024000+00:00  \n",
       "21             60  Predomínio de Sol    29 2024-03-01 22:00:00.024000+00:00  \n",
       "22             20  Predomínio de Sol    27 2024-03-01 22:00:00.024000+00:00  \n",
       "23            150  Predomínio de Sol    20 2024-03-01 22:00:00.024000+00:00  \n",
       "24            340  Predomínio de Sol    26 2024-03-01 22:00:00.024000+00:00  \n",
       "25           9999  Predomínio de Sol    23 2024-03-01 22:00:00.024000+00:00  "
      ]
     },
     "execution_count": 12,
     "metadata": {},
     "output_type": "execute_result"
    }
   ],
   "source": [
    "df_cptec_tratada.tail(10)  #Se imprime o dataframe para revisar os dadods e colunas"
   ]
  },
  {
   "cell_type": "markdown",
   "metadata": {},
   "source": [
    "### Dataframe Estados"
   ]
  },
  {
   "cell_type": "code",
   "execution_count": 13,
   "metadata": {},
   "outputs": [
    {
     "name": "stdout",
     "output_type": "stream",
     "text": [
      "<class 'pandas.core.frame.DataFrame'>\n",
      "RangeIndex: 27 entries, 0 to 26\n",
      "Data columns (total 4 columns):\n",
      " #   Column  Non-Null Count  Dtype \n",
      "---  ------  --------------  ----- \n",
      " 0   id      27 non-null     int64 \n",
      " 1   sigla   27 non-null     object\n",
      " 2   nome    27 non-null     object\n",
      " 3   regiao  27 non-null     object\n",
      "dtypes: int64(1), object(3)\n",
      "memory usage: 996.0+ bytes\n"
     ]
    }
   ],
   "source": [
    "df_estados.info()"
   ]
  },
  {
   "cell_type": "markdown",
   "metadata": {},
   "source": [
    "#### Tratamento da base Estados\n",
    "\n",
    "*Não tem valores nulos nem tipos de dados para mudar."
   ]
  },
  {
   "cell_type": "code",
   "execution_count": 14,
   "metadata": {},
   "outputs": [
    {
     "data": {
      "text/html": [
       "<div>\n",
       "<style scoped>\n",
       "    .dataframe tbody tr th:only-of-type {\n",
       "        vertical-align: middle;\n",
       "    }\n",
       "\n",
       "    .dataframe tbody tr th {\n",
       "        vertical-align: top;\n",
       "    }\n",
       "\n",
       "    .dataframe thead th {\n",
       "        text-align: right;\n",
       "    }\n",
       "</style>\n",
       "<table border=\"1\" class=\"dataframe\">\n",
       "  <thead>\n",
       "    <tr style=\"text-align: right;\">\n",
       "      <th></th>\n",
       "      <th>id</th>\n",
       "      <th>sigla</th>\n",
       "      <th>nome</th>\n",
       "      <th>regiao</th>\n",
       "    </tr>\n",
       "  </thead>\n",
       "  <tbody>\n",
       "    <tr>\n",
       "      <th>0</th>\n",
       "      <td>11</td>\n",
       "      <td>RO</td>\n",
       "      <td>Rondônia</td>\n",
       "      <td>{'id': 1, 'sigla': 'N', 'nome': 'Norte'}</td>\n",
       "    </tr>\n",
       "    <tr>\n",
       "      <th>1</th>\n",
       "      <td>12</td>\n",
       "      <td>AC</td>\n",
       "      <td>Acre</td>\n",
       "      <td>{'id': 1, 'sigla': 'N', 'nome': 'Norte'}</td>\n",
       "    </tr>\n",
       "    <tr>\n",
       "      <th>2</th>\n",
       "      <td>13</td>\n",
       "      <td>AM</td>\n",
       "      <td>Amazonas</td>\n",
       "      <td>{'id': 1, 'sigla': 'N', 'nome': 'Norte'}</td>\n",
       "    </tr>\n",
       "    <tr>\n",
       "      <th>3</th>\n",
       "      <td>14</td>\n",
       "      <td>RR</td>\n",
       "      <td>Roraima</td>\n",
       "      <td>{'id': 1, 'sigla': 'N', 'nome': 'Norte'}</td>\n",
       "    </tr>\n",
       "    <tr>\n",
       "      <th>4</th>\n",
       "      <td>15</td>\n",
       "      <td>PA</td>\n",
       "      <td>Pará</td>\n",
       "      <td>{'id': 1, 'sigla': 'N', 'nome': 'Norte'}</td>\n",
       "    </tr>\n",
       "  </tbody>\n",
       "</table>\n",
       "</div>"
      ],
      "text/plain": [
       "   id sigla      nome                                    regiao\n",
       "0  11    RO  Rondônia  {'id': 1, 'sigla': 'N', 'nome': 'Norte'}\n",
       "1  12    AC      Acre  {'id': 1, 'sigla': 'N', 'nome': 'Norte'}\n",
       "2  13    AM  Amazonas  {'id': 1, 'sigla': 'N', 'nome': 'Norte'}\n",
       "3  14    RR   Roraima  {'id': 1, 'sigla': 'N', 'nome': 'Norte'}\n",
       "4  15    PA      Pará  {'id': 1, 'sigla': 'N', 'nome': 'Norte'}"
      ]
     },
     "execution_count": 14,
     "metadata": {},
     "output_type": "execute_result"
    }
   ],
   "source": [
    "#Se revisa o Dataframe para revisar os dados\n",
    "df_estados.head(5)"
   ]
  },
  {
   "cell_type": "markdown",
   "metadata": {},
   "source": [
    "* \"A coluna 'regiao' contém um dicionário de dados, e nos interessa extrair o nome da região para uma nova coluna. Este procedimento será realizado a seguir.\""
   ]
  },
  {
   "cell_type": "code",
   "execution_count": 15,
   "metadata": {},
   "outputs": [
    {
     "data": {
      "text/plain": [
       "['Tratamento feito: nome da regiao extraído e armazenado na variável nome_regiao',\n",
       " 'Tratamento feito: Se adicionou a coluna \"nome_regiao\" no dataframe df_estados']"
      ]
     },
     "execution_count": 15,
     "metadata": {},
     "output_type": "execute_result"
    }
   ],
   "source": [
    "lista_tratamento_estados = []\n",
    "\n",
    "#Se adiciona a nova coluna \"nome_regiao\" no dataframe df_estados.\n",
    "df_estados_tratada = jv.tratamento_estados(df_estados, lista_tratamento_estados)\n",
    "\n",
    "lista_tratamento_estados"
   ]
  },
  {
   "cell_type": "code",
   "execution_count": 16,
   "metadata": {},
   "outputs": [
    {
     "data": {
      "text/html": [
       "<div>\n",
       "<style scoped>\n",
       "    .dataframe tbody tr th:only-of-type {\n",
       "        vertical-align: middle;\n",
       "    }\n",
       "\n",
       "    .dataframe tbody tr th {\n",
       "        vertical-align: top;\n",
       "    }\n",
       "\n",
       "    .dataframe thead th {\n",
       "        text-align: right;\n",
       "    }\n",
       "</style>\n",
       "<table border=\"1\" class=\"dataframe\">\n",
       "  <thead>\n",
       "    <tr style=\"text-align: right;\">\n",
       "      <th></th>\n",
       "      <th>id</th>\n",
       "      <th>sigla</th>\n",
       "      <th>nome</th>\n",
       "      <th>regiao</th>\n",
       "      <th>nome_regiao</th>\n",
       "    </tr>\n",
       "  </thead>\n",
       "  <tbody>\n",
       "    <tr>\n",
       "      <th>22</th>\n",
       "      <td>43</td>\n",
       "      <td>RS</td>\n",
       "      <td>Rio Grande do Sul</td>\n",
       "      <td>{'id': 4, 'sigla': 'S', 'nome': 'Sul'}</td>\n",
       "      <td>Sul</td>\n",
       "    </tr>\n",
       "    <tr>\n",
       "      <th>23</th>\n",
       "      <td>50</td>\n",
       "      <td>MS</td>\n",
       "      <td>Mato Grosso do Sul</td>\n",
       "      <td>{'id': 5, 'sigla': 'CO', 'nome': 'Centro-Oeste'}</td>\n",
       "      <td>Centro-Oeste</td>\n",
       "    </tr>\n",
       "    <tr>\n",
       "      <th>24</th>\n",
       "      <td>51</td>\n",
       "      <td>MT</td>\n",
       "      <td>Mato Grosso</td>\n",
       "      <td>{'id': 5, 'sigla': 'CO', 'nome': 'Centro-Oeste'}</td>\n",
       "      <td>Centro-Oeste</td>\n",
       "    </tr>\n",
       "    <tr>\n",
       "      <th>25</th>\n",
       "      <td>52</td>\n",
       "      <td>GO</td>\n",
       "      <td>Goiás</td>\n",
       "      <td>{'id': 5, 'sigla': 'CO', 'nome': 'Centro-Oeste'}</td>\n",
       "      <td>Centro-Oeste</td>\n",
       "    </tr>\n",
       "    <tr>\n",
       "      <th>26</th>\n",
       "      <td>53</td>\n",
       "      <td>DF</td>\n",
       "      <td>Distrito Federal</td>\n",
       "      <td>{'id': 5, 'sigla': 'CO', 'nome': 'Centro-Oeste'}</td>\n",
       "      <td>Centro-Oeste</td>\n",
       "    </tr>\n",
       "  </tbody>\n",
       "</table>\n",
       "</div>"
      ],
      "text/plain": [
       "    id sigla                nome  \\\n",
       "22  43    RS   Rio Grande do Sul   \n",
       "23  50    MS  Mato Grosso do Sul   \n",
       "24  51    MT         Mato Grosso   \n",
       "25  52    GO               Goiás   \n",
       "26  53    DF    Distrito Federal   \n",
       "\n",
       "                                              regiao   nome_regiao  \n",
       "22            {'id': 4, 'sigla': 'S', 'nome': 'Sul'}           Sul  \n",
       "23  {'id': 5, 'sigla': 'CO', 'nome': 'Centro-Oeste'}  Centro-Oeste  \n",
       "24  {'id': 5, 'sigla': 'CO', 'nome': 'Centro-Oeste'}  Centro-Oeste  \n",
       "25  {'id': 5, 'sigla': 'CO', 'nome': 'Centro-Oeste'}  Centro-Oeste  \n",
       "26  {'id': 5, 'sigla': 'CO', 'nome': 'Centro-Oeste'}  Centro-Oeste  "
      ]
     },
     "execution_count": 16,
     "metadata": {},
     "output_type": "execute_result"
    }
   ],
   "source": [
    "df_estados_tratada.tail(5)"
   ]
  },
  {
   "cell_type": "markdown",
   "metadata": {},
   "source": [
    "# Salvar Bases tratadas no formato CSV"
   ]
  },
  {
   "cell_type": "code",
   "execution_count": 17,
   "metadata": {},
   "outputs": [
    {
     "data": {
      "text/plain": [
       "'Bases salvadas no formato .csv em C:\\\\Temp'"
      ]
     },
     "execution_count": 17,
     "metadata": {},
     "output_type": "execute_result"
    }
   ],
   "source": [
    "lista_bases_tratadas = [df_aeroporto_tratada, df_cptec_tratada, df_estados_tratada] #Lista com os 3 dataframes obtidos\n",
    "lista_nomes = ['Base Aeroporto', 'Base CPTEC', 'Base Estados'] #Lista com os nomes para cada base\n",
    "\n",
    "jv.salvar_em_csv(lista_bases_tratadas, lista_nomes)  #Função em functionsjv.py que recebe a lista de dataframes e a lista de nomes para ser iteradas e salvar os 3 dataframes no formato .csv\n"
   ]
  },
  {
   "cell_type": "markdown",
   "metadata": {},
   "source": [
    "# Criação de banco de dados com as bases geradas"
   ]
  },
  {
   "cell_type": "markdown",
   "metadata": {},
   "source": [
    "* Se conecta ao banco ou se cria um novo banco\n",
    "* Se criam as tabelas do banco de dados com as bases .CSV"
   ]
  },
  {
   "cell_type": "code",
   "execution_count": 18,
   "metadata": {},
   "outputs": [
    {
     "data": {
      "text/plain": [
       "\"As tabelas ['Aeroportos', 'Previsoes', 'Estados'] foram criadas\""
      ]
     },
     "execution_count": 18,
     "metadata": {},
     "output_type": "execute_result"
    }
   ],
   "source": [
    "#Se criam 2 listas, uma com as bases.csv e outra que contém os nomes para as tabelas.\n",
    "lista_basecsv = [\"Base Aeroporto.csv\", \"Base CPTEC.csv\", \"Base Estados.csv\"] \n",
    "lista_nome_tabela = ['Aeroportos', 'Previsoes', 'Estados']\n",
    "\n",
    "conn = sqlite3.connect('C:\\\\Temp\\\\cptec_aeroportos.db') #conectar ou criar uma db se nao existe\n",
    "\n",
    "jv.bd_tables(lista_basecsv, lista_nome_tabela, conn) #Função para criar tabelas\n",
    "\n"
   ]
  },
  {
   "cell_type": "markdown",
   "metadata": {},
   "source": [
    "* Se verifcam que as tabelas foram criadas no banco de dados"
   ]
  },
  {
   "cell_type": "code",
   "execution_count": 19,
   "metadata": {},
   "outputs": [
    {
     "data": {
      "text/html": [
       "<div>\n",
       "<style scoped>\n",
       "    .dataframe tbody tr th:only-of-type {\n",
       "        vertical-align: middle;\n",
       "    }\n",
       "\n",
       "    .dataframe tbody tr th {\n",
       "        vertical-align: top;\n",
       "    }\n",
       "\n",
       "    .dataframe thead th {\n",
       "        text-align: right;\n",
       "    }\n",
       "</style>\n",
       "<table border=\"1\" class=\"dataframe\">\n",
       "  <thead>\n",
       "    <tr style=\"text-align: right;\">\n",
       "      <th></th>\n",
       "      <th>name</th>\n",
       "    </tr>\n",
       "  </thead>\n",
       "  <tbody>\n",
       "    <tr>\n",
       "      <th>0</th>\n",
       "      <td>Aeroportos</td>\n",
       "    </tr>\n",
       "    <tr>\n",
       "      <th>1</th>\n",
       "      <td>Previsoes</td>\n",
       "    </tr>\n",
       "    <tr>\n",
       "      <th>2</th>\n",
       "      <td>Estados</td>\n",
       "    </tr>\n",
       "  </tbody>\n",
       "</table>\n",
       "</div>"
      ],
      "text/plain": [
       "         name\n",
       "0  Aeroportos\n",
       "1   Previsoes\n",
       "2     Estados"
      ]
     },
     "execution_count": 19,
     "metadata": {},
     "output_type": "execute_result"
    }
   ],
   "source": [
    "#Se hace um query que retorne as tabelas do banco de dados cptec_aeroportos.db para conferir que foram criadas\n",
    "query2 = \"select name from sqlite_master where type='table'\"\n",
    "schema = pd.read_sql_query(query2, conn) # so para consultas\n",
    "schema"
   ]
  },
  {
   "cell_type": "markdown",
   "metadata": {},
   "source": [
    "* Se faz um consulta com as tabelas criadas para verificar os dados"
   ]
  },
  {
   "cell_type": "code",
   "execution_count": 20,
   "metadata": {},
   "outputs": [
    {
     "data": {
      "text/html": [
       "<div>\n",
       "<style scoped>\n",
       "    .dataframe tbody tr th:only-of-type {\n",
       "        vertical-align: middle;\n",
       "    }\n",
       "\n",
       "    .dataframe tbody tr th {\n",
       "        vertical-align: top;\n",
       "    }\n",
       "\n",
       "    .dataframe thead th {\n",
       "        text-align: right;\n",
       "    }\n",
       "</style>\n",
       "<table border=\"1\" class=\"dataframe\">\n",
       "  <thead>\n",
       "    <tr style=\"text-align: right;\">\n",
       "      <th></th>\n",
       "      <th>cidade</th>\n",
       "      <th>nome oficial</th>\n",
       "      <th>condicao_desc</th>\n",
       "      <th>codigo</th>\n",
       "      <th>codigo_icao</th>\n",
       "      <th>atualizado_em</th>\n",
       "    </tr>\n",
       "  </thead>\n",
       "  <tbody>\n",
       "    <tr>\n",
       "      <th>0</th>\n",
       "      <td>Belém</td>\n",
       "      <td>Aeroporto Internacional de Belém Val-de-Cães</td>\n",
       "      <td>Predomínio de Sol</td>\n",
       "      <td>SBBE</td>\n",
       "      <td>SBBE</td>\n",
       "      <td>2024-03-01 22:00:00.024000+00:00</td>\n",
       "    </tr>\n",
       "    <tr>\n",
       "      <th>1</th>\n",
       "      <td>Confins</td>\n",
       "      <td>Aeroporto Internacional de Belo Horizonte-Confins</td>\n",
       "      <td>Predomínio de Sol</td>\n",
       "      <td>SBCF</td>\n",
       "      <td>SBCF</td>\n",
       "      <td>2024-03-01 22:00:00.024000+00:00</td>\n",
       "    </tr>\n",
       "    <tr>\n",
       "      <th>2</th>\n",
       "      <td>Lago Sul</td>\n",
       "      <td>Aeroporto Internacional de Brasília</td>\n",
       "      <td>Predomínio de Sol</td>\n",
       "      <td>SBBR</td>\n",
       "      <td>SBBR</td>\n",
       "      <td>2024-03-01 22:00:00.024000+00:00</td>\n",
       "    </tr>\n",
       "    <tr>\n",
       "      <th>3</th>\n",
       "      <td>São José dos Pinhais</td>\n",
       "      <td>Aeroporto Internacional Afonso Pena</td>\n",
       "      <td>Predomínio de Sol</td>\n",
       "      <td>SBCT</td>\n",
       "      <td>SBCT</td>\n",
       "      <td>2024-03-01 22:00:00.024000+00:00</td>\n",
       "    </tr>\n",
       "    <tr>\n",
       "      <th>4</th>\n",
       "      <td>Florianópilis</td>\n",
       "      <td>Aeroporto Internacional Hercílio Luz</td>\n",
       "      <td>Predomínio de Sol</td>\n",
       "      <td>SBFL</td>\n",
       "      <td>SBFL</td>\n",
       "      <td>2024-03-01 22:00:00.024000+00:00</td>\n",
       "    </tr>\n",
       "    <tr>\n",
       "      <th>5</th>\n",
       "      <td>Fortaleza</td>\n",
       "      <td>Aeroporto Internacional Pinto Martins</td>\n",
       "      <td>Predomínio de Sol</td>\n",
       "      <td>SBFZ</td>\n",
       "      <td>SBFZ</td>\n",
       "      <td>2024-03-01 22:00:00.024000+00:00</td>\n",
       "    </tr>\n",
       "    <tr>\n",
       "      <th>6</th>\n",
       "      <td>Goiânia</td>\n",
       "      <td>Aeroporto Internacional Santa Genoveva</td>\n",
       "      <td>Predomínio de Sol</td>\n",
       "      <td>SBGO</td>\n",
       "      <td>SBGO</td>\n",
       "      <td>2024-03-01 22:00:00.024000+00:00</td>\n",
       "    </tr>\n",
       "    <tr>\n",
       "      <th>7</th>\n",
       "      <td>Bayeux</td>\n",
       "      <td>Aeroporto Internacional de João Pessoa-Bayeux</td>\n",
       "      <td>Predomínio de Sol</td>\n",
       "      <td>SBJP</td>\n",
       "      <td>SBJP</td>\n",
       "      <td>2024-03-01 22:00:00.024000+00:00</td>\n",
       "    </tr>\n",
       "    <tr>\n",
       "      <th>8</th>\n",
       "      <td>Macapá</td>\n",
       "      <td>Aeroporto Internacional de Macapá-Alberto Alco...</td>\n",
       "      <td>Predomínio de Sol</td>\n",
       "      <td>SBMQ</td>\n",
       "      <td>SBMQ</td>\n",
       "      <td>2024-03-01 22:00:00.024000+00:00</td>\n",
       "    </tr>\n",
       "    <tr>\n",
       "      <th>9</th>\n",
       "      <td>Rio Largo</td>\n",
       "      <td>Aeroporto Internacional Zumbi dos Palmares</td>\n",
       "      <td>Predomínio de Sol</td>\n",
       "      <td>SBMO</td>\n",
       "      <td>SBMO</td>\n",
       "      <td>2024-03-01 22:00:00.024000+00:00</td>\n",
       "    </tr>\n",
       "    <tr>\n",
       "      <th>10</th>\n",
       "      <td>Porto Alegre</td>\n",
       "      <td>Aeroporto Internacional Salgado Filho</td>\n",
       "      <td>Predomínio de Sol</td>\n",
       "      <td>SBPA</td>\n",
       "      <td>SBPA</td>\n",
       "      <td>2024-03-01 22:00:00.024000+00:00</td>\n",
       "    </tr>\n",
       "    <tr>\n",
       "      <th>11</th>\n",
       "      <td>Recife</td>\n",
       "      <td>Aeroporto Internacional do Recife</td>\n",
       "      <td>Predomínio de Sol</td>\n",
       "      <td>SBRF</td>\n",
       "      <td>SBRF</td>\n",
       "      <td>2024-03-01 22:00:00.024000+00:00</td>\n",
       "    </tr>\n",
       "    <tr>\n",
       "      <th>12</th>\n",
       "      <td>Rio Branco</td>\n",
       "      <td>Aeroporto Internacional de Rio Branco</td>\n",
       "      <td>Predomínio de Sol</td>\n",
       "      <td>SBRB</td>\n",
       "      <td>SBRB</td>\n",
       "      <td>2024-03-01 22:00:00.024000+00:00</td>\n",
       "    </tr>\n",
       "    <tr>\n",
       "      <th>13</th>\n",
       "      <td>Rio de Janeiro</td>\n",
       "      <td>Aeroporto Santos Dumont</td>\n",
       "      <td>Predomínio de Sol</td>\n",
       "      <td>SBRJ</td>\n",
       "      <td>SBRJ</td>\n",
       "      <td>2024-03-01 22:00:00.024000+00:00</td>\n",
       "    </tr>\n",
       "    <tr>\n",
       "      <th>14</th>\n",
       "      <td>São Luís</td>\n",
       "      <td>Aeroporto Internacional de São Luís</td>\n",
       "      <td>Predomínio de Sol</td>\n",
       "      <td>SBSL</td>\n",
       "      <td>SBSL</td>\n",
       "      <td>2024-03-01 22:00:00.024000+00:00</td>\n",
       "    </tr>\n",
       "    <tr>\n",
       "      <th>15</th>\n",
       "      <td>São Paulo</td>\n",
       "      <td>Aeroporto de Congonhas</td>\n",
       "      <td>Predomínio de Sol</td>\n",
       "      <td>SBSP</td>\n",
       "      <td>SBSP</td>\n",
       "      <td>2024-03-01 22:00:00.024000+00:00</td>\n",
       "    </tr>\n",
       "    <tr>\n",
       "      <th>16</th>\n",
       "      <td>Teresina</td>\n",
       "      <td>Aeroporto de Teresina</td>\n",
       "      <td>Predomínio de Sol</td>\n",
       "      <td>SBTE</td>\n",
       "      <td>SBTE</td>\n",
       "      <td>2024-03-01 22:00:00.024000+00:00</td>\n",
       "    </tr>\n",
       "  </tbody>\n",
       "</table>\n",
       "</div>"
      ],
      "text/plain": [
       "                  cidade                                       nome oficial  \\\n",
       "0                  Belém       Aeroporto Internacional de Belém Val-de-Cães   \n",
       "1                Confins  Aeroporto Internacional de Belo Horizonte-Confins   \n",
       "2               Lago Sul                Aeroporto Internacional de Brasília   \n",
       "3   São José dos Pinhais                Aeroporto Internacional Afonso Pena   \n",
       "4          Florianópilis               Aeroporto Internacional Hercílio Luz   \n",
       "5              Fortaleza              Aeroporto Internacional Pinto Martins   \n",
       "6                Goiânia             Aeroporto Internacional Santa Genoveva   \n",
       "7                 Bayeux      Aeroporto Internacional de João Pessoa-Bayeux   \n",
       "8                 Macapá  Aeroporto Internacional de Macapá-Alberto Alco...   \n",
       "9              Rio Largo         Aeroporto Internacional Zumbi dos Palmares   \n",
       "10          Porto Alegre              Aeroporto Internacional Salgado Filho   \n",
       "11                Recife                  Aeroporto Internacional do Recife   \n",
       "12            Rio Branco              Aeroporto Internacional de Rio Branco   \n",
       "13        Rio de Janeiro                            Aeroporto Santos Dumont   \n",
       "14              São Luís                Aeroporto Internacional de São Luís   \n",
       "15             São Paulo                             Aeroporto de Congonhas   \n",
       "16              Teresina                              Aeroporto de Teresina   \n",
       "\n",
       "        condicao_desc codigo codigo_icao                     atualizado_em  \n",
       "0   Predomínio de Sol   SBBE        SBBE  2024-03-01 22:00:00.024000+00:00  \n",
       "1   Predomínio de Sol   SBCF        SBCF  2024-03-01 22:00:00.024000+00:00  \n",
       "2   Predomínio de Sol   SBBR        SBBR  2024-03-01 22:00:00.024000+00:00  \n",
       "3   Predomínio de Sol   SBCT        SBCT  2024-03-01 22:00:00.024000+00:00  \n",
       "4   Predomínio de Sol   SBFL        SBFL  2024-03-01 22:00:00.024000+00:00  \n",
       "5   Predomínio de Sol   SBFZ        SBFZ  2024-03-01 22:00:00.024000+00:00  \n",
       "6   Predomínio de Sol   SBGO        SBGO  2024-03-01 22:00:00.024000+00:00  \n",
       "7   Predomínio de Sol   SBJP        SBJP  2024-03-01 22:00:00.024000+00:00  \n",
       "8   Predomínio de Sol   SBMQ        SBMQ  2024-03-01 22:00:00.024000+00:00  \n",
       "9   Predomínio de Sol   SBMO        SBMO  2024-03-01 22:00:00.024000+00:00  \n",
       "10  Predomínio de Sol   SBPA        SBPA  2024-03-01 22:00:00.024000+00:00  \n",
       "11  Predomínio de Sol   SBRF        SBRF  2024-03-01 22:00:00.024000+00:00  \n",
       "12  Predomínio de Sol   SBRB        SBRB  2024-03-01 22:00:00.024000+00:00  \n",
       "13  Predomínio de Sol   SBRJ        SBRJ  2024-03-01 22:00:00.024000+00:00  \n",
       "14  Predomínio de Sol   SBSL        SBSL  2024-03-01 22:00:00.024000+00:00  \n",
       "15  Predomínio de Sol   SBSP        SBSP  2024-03-01 22:00:00.024000+00:00  \n",
       "16  Predomínio de Sol   SBTE        SBTE  2024-03-01 22:00:00.024000+00:00  "
      ]
     },
     "execution_count": 20,
     "metadata": {},
     "output_type": "execute_result"
    }
   ],
   "source": [
    "#executar uma consulta que une com um JOIN dados das tabelas Previsoes e Aeroportos, filtrando valores nulos\n",
    "query = '''SELECT cidade, \"nome oficial\", condicao_desc, codigo, codigo_icao, atualizado_em\n",
    "           FROM Previsoes\n",
    "           Left JOIN Aeroportos ON Previsoes.codigo_icao = Aeroportos.codigo\n",
    "           WHERE cidade IS NOT NULL''' #\n",
    "df = pd.read_sql(query, conn)  \n",
    "df"
   ]
  }
 ],
 "metadata": {
  "kernelspec": {
   "display_name": "Python 3",
   "language": "python",
   "name": "python3"
  },
  "language_info": {
   "codemirror_mode": {
    "name": "ipython",
    "version": 3
   },
   "file_extension": ".py",
   "mimetype": "text/x-python",
   "name": "python",
   "nbconvert_exporter": "python",
   "pygments_lexer": "ipython3",
   "version": "3.12.1"
  }
 },
 "nbformat": 4,
 "nbformat_minor": 2
}
